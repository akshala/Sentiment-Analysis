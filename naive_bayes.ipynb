{
 "cells": [
  {
   "cell_type": "code",
   "execution_count": 3,
   "metadata": {},
   "outputs": [],
   "source": [
    "import pandas as pd\n",
    "import regex as re\n",
    "from nltk.tokenize import TweetTokenizer\n",
    "from sklearn.feature_extraction.text import CountVectorizer\n",
    "import numpy as np\n",
    "import seaborn as sns"
   ]
  },
  {
   "cell_type": "code",
   "execution_count": 4,
   "metadata": {},
   "outputs": [],
   "source": [
    "tk = TweetTokenizer()"
   ]
  },
  {
   "cell_type": "code",
   "execution_count": 5,
   "metadata": {},
   "outputs": [],
   "source": [
    "df = pd.read_csv('sentiment_train.csv')"
   ]
  },
  {
   "cell_type": "code",
   "execution_count": 6,
   "metadata": {},
   "outputs": [],
   "source": [
    "def preprocess(x):\n",
    "    # x: raw input text\n",
    "    x = re.sub('((www\\.[^\\s]+)|(https?://[^\\s]+)|(http?://[^\\s]+))', '', x)  # removing website URLs\n",
    "    x = re.sub(r'http\\S+', '', x)   \n",
    "    x = re.sub('@[^\\s]+', '', x)   # removing usernames\n",
    "    return x  # preprocessed text is returned"
   ]
  },
  {
   "cell_type": "code",
   "execution_count": 7,
   "metadata": {},
   "outputs": [],
   "source": [
    "df['Text'] = df['5'].apply(lambda x: preprocess(x))\n",
    "df['label'] = df['0']\n",
    "df = df.drop(['0', '1', '2', '3', '4', '5'], axis = 1)   # these columns are not important anymore"
   ]
  },
  {
   "cell_type": "code",
   "execution_count": 8,
   "metadata": {},
   "outputs": [],
   "source": [
    "total_pos = 0\n",
    "total_neg = 0\n",
    "total_neu = 0\n",
    "word_counts = {}\n",
    "\n",
    "for index, row in df.iterrows():\n",
    "    words = tk.tokenize(row['Text'])    # get list of words by tokenizing text field\n",
    "    for word in words:\n",
    "        word = word.lower()\n",
    "        if word not in word_counts:\n",
    "            word_counts[word] = [0,0,0]\n",
    "        if row['label'] == 4:          # word given positive label\n",
    "            word_counts[word][0] += 1  \n",
    "            total_pos += 1\n",
    "        elif row['label'] == 0:        # word given negative label\n",
    "            word_counts[word][1] += 1\n",
    "            total_neg += 1\n",
    "        elif row['label'] == 2:        # word given neutral label\n",
    "            word_counts[word][2] += 1\n",
    "            total_neu += 1\n",
    "vocab = list(word_counts.keys())   # vocabulary with all unique words"
   ]
  },
  {
   "cell_type": "code",
   "execution_count": 10,
   "metadata": {},
   "outputs": [],
   "source": [
    "import pickle\n",
    "a_file = open(\"naive_bayes.pkl\", \"wb\")\n",
    "pickle.dump(word_counts, a_file)\n",
    "a_file.close()"
   ]
  },
  {
   "cell_type": "code",
   "execution_count": null,
   "metadata": {},
   "outputs": [],
   "source": [
    "test = pd.read_csv('sentiment_test.csv')"
   ]
  },
  {
   "cell_type": "code",
   "execution_count": null,
   "metadata": {},
   "outputs": [],
   "source": [
    "def probability(count_word, count_total, len_vocab):  # probability formula with add 1 smoothing\n",
    "    # count_word: number of occurences of word given label instance\n",
    "    # count_total: total number of occurences of given label\n",
    "    # len_vocab: total number of words in vocabulary\n",
    "    return (count_word + 1)/(count_total + len_vocab)"
   ]
  },
  {
   "cell_type": "code",
   "execution_count": null,
   "metadata": {},
   "outputs": [],
   "source": [
    "test['Text'] = test['5'].apply(lambda x: preprocess(x))\n",
    "test['label'] = test['0']\n",
    "test = test.drop(['0', '1', '2', '3', '4', '5'], axis = 1)   # these columns are not important anymore"
   ]
  },
  {
   "cell_type": "code",
   "execution_count": 10,
   "metadata": {},
   "outputs": [],
   "source": [
    "len_vocab = len(vocab)\n",
    "y_actual = test['label']\n",
    "y_pred = []"
   ]
  },
  {
   "cell_type": "code",
   "execution_count": 11,
   "metadata": {},
   "outputs": [],
   "source": [
    "for index, row in test.iterrows():\n",
    "    words = tk.tokenize(row['Text'])    # get list of words by tokenizing text field\n",
    "    pos = 1\n",
    "    neg = 1\n",
    "    neu = 1\n",
    "    for word in words:\n",
    "        word = word.lower()\n",
    "        if word in word_counts:   # final probability is product of probabilities for each word\n",
    "            pos *= probability(word_counts[word][0], total_pos, len_vocab)\n",
    "            neg *= probability(word_counts[word][1], total_neg, len_vocab)\n",
    "            neu *= probability(word_counts[word][2], total_neu, len_vocab)\n",
    "        else:\n",
    "            pos *= probability(0, total_pos, len_vocab)  # if given word is not present then count_word attribute \n",
    "            neg *= probability(0, total_neg, len_vocab)  # in probability becomes 0\n",
    "            neu *= probability(0, total_neu, len_vocab)\n",
    "    d = {'pos': pos, 'neg': neg, 'neu': neu}\n",
    "    max_sentiment = max(d, key=d.get)   # get max probability sentiment \n",
    "    if max_sentiment == 'pos':\n",
    "        y_pred.append(4)\n",
    "    elif max_sentiment == 'neg':\n",
    "        y_pred.append(0)\n",
    "    else:\n",
    "        y_pred.append(2)"
   ]
  },
  {
   "cell_type": "code",
   "execution_count": 12,
   "metadata": {},
   "outputs": [
    {
     "data": {
      "text/plain": [
       "0.78108125"
      ]
     },
     "execution_count": 12,
     "metadata": {},
     "output_type": "execute_result"
    }
   ],
   "source": [
    "from sklearn.metrics import accuracy_score\n",
    "accuracy_score(y_actual, y_pred)"
   ]
  },
  {
   "cell_type": "code",
   "execution_count": 13,
   "metadata": {},
   "outputs": [],
   "source": [
    "def getConfusionMatrix(y_pred, y_test):\n",
    "    tp = 0\n",
    "    tn = 0\n",
    "    fp = 0\n",
    "    fn = 0\n",
    "    for i in range(len(y_test)):\n",
    "        if(y_test[i] == 4 and y_pred[i] == 4):\n",
    "            tp += 1\n",
    "        if(y_test[i] == 4 and y_pred[i] == 0):\n",
    "            fn += 1\n",
    "        if(y_test[i] == 0 and y_pred[i] == 4):\n",
    "            fp += 1\n",
    "        if(y_test[i] == 0 and y_pred[i] == 0):\n",
    "            tn += 1\n",
    "    conf_mat = np.array([\n",
    "            [tp, fn],\n",
    "            [fp, tn]\n",
    "        ])\n",
    "    accuracy = (tp+tn)/(tp+tn+fp+fn)\n",
    "    if tp+fp == 0:\n",
    "        precision_pos = 0\n",
    "    else:\n",
    "        precision_pos = tp/(tp+fp)\n",
    "\n",
    "    if tn+fn == 0:\n",
    "        precision_neg = 0\n",
    "    else:\n",
    "        precision_neg = tn/(tn+fn)\n",
    "\n",
    "    if tp+fn == 0:\n",
    "        recall_pos = 0\n",
    "    else:\n",
    "        recall_pos = tp/(tp+fn)\n",
    "\n",
    "    if tn+fp == 0:\n",
    "        recall_neg = 0\n",
    "    else:\n",
    "        recall_neg = tn/(tn+fp)\n",
    "\n",
    "    precision = (precision_pos + precision_neg)/2\n",
    "    recall = (recall_pos + recall_neg)/2\n",
    "\n",
    "    if precision_pos + recall_pos == 0:\n",
    "        f_pos = 0\n",
    "    else:\n",
    "        f_pos = 2*(precision_pos * recall_pos)/(precision_pos + recall_pos)\n",
    "\n",
    "    if precision_neg + recall_neg == 0:\n",
    "        f_neg = 0\n",
    "    else:\n",
    "        f_neg = 2*(precision_neg * recall_neg)/(precision_neg + recall_neg)\n",
    "\n",
    "    f = (f_pos + f_neg)/2\n",
    "#         return accuracy, precision, recall, f\n",
    "    print(\"Accuracy:\", accuracy)\n",
    "    print(\"Precision:\", precision)\n",
    "    print(\"Recall:\", recall)\n",
    "    print(\"F-score:\", f)\n",
    "    labels = [\"Positive\", \"Negative\"]\n",
    "    ax = sns.heatmap(conf_mat, annot=True, fmt='d', cmap='Blues', xticklabels=labels, yticklabels=labels)\n",
    "    ax.set(title=\"Confusion Matrix\",\n",
    "      xlabel=\"Predicted\",\n",
    "      ylabel=\"Gold Standard\")"
   ]
  },
  {
   "cell_type": "code",
   "execution_count": 14,
   "metadata": {},
   "outputs": [
    {
     "name": "stdout",
     "output_type": "stream",
     "text": [
      "Accuracy: 0.7830159519145221\n",
      "Precision: 0.7837406264880169\n",
      "Recall: 0.783080401364769\n",
      "F-score: 0.7829025154603428\n"
     ]
    },
    {
     "data": {
      "image/png": "[encoded data removed]",
      "text/plain": [
       "<Figure size 432x288 with 2 Axes>"
      ]
     },
     "metadata": {
      "needs_background": "light"
     },
     "output_type": "display_data"
    }
   ],
   "source": [
    "getConfusionMatrix(y_pred, y_actual)"
   ]
  },
  {
   "cell_type": "code",
   "execution_count": null,
   "metadata": {},
   "outputs": [],
   "source": []
  }
 ],
 "metadata": {
  "kernelspec": {
   "display_name": "Python 3",
   "language": "python",
   "name": "python3"
  },
  "language_info": {
   "codemirror_mode": {
    "name": "ipython",
    "version": 3
   },
   "file_extension": ".py",
   "mimetype": "text/x-python",
   "name": "python",
   "nbconvert_exporter": "python",
   "pygments_lexer": "ipython3",
   "version": "3.6.5"
  }
 },
 "nbformat": 4,
 "nbformat_minor": 4
}
